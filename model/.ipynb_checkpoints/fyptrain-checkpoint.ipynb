{
 "cells": [
  {
   "cell_type": "code",
   "execution_count": 1,
   "id": "bcf0cf8d-31cd-46c5-a6ff-8e7150a77961",
   "metadata": {},
   "outputs": [
    {
     "name": "stderr",
     "output_type": "stream",
     "text": [
      "[nltk_data] Downloading package punkt to C:\\Users\\Zul\n",
      "[nltk_data]     Zaki\\AppData\\Roaming\\nltk_data...\n",
      "[nltk_data]   Package punkt is already up-to-date!\n",
      "[nltk_data] Downloading package stopwords to C:\\Users\\Zul\n",
      "[nltk_data]     Zaki\\AppData\\Roaming\\nltk_data...\n",
      "[nltk_data]   Package stopwords is already up-to-date!\n"
     ]
    },
    {
     "name": "stdout",
     "output_type": "stream",
     "text": [
      "Dataset Info:\n",
      "<class 'pandas.core.frame.DataFrame'>\n",
      "Index: 71537 entries, 0 to 72133\n",
      "Data columns (total 4 columns):\n",
      " #   Column      Non-Null Count  Dtype \n",
      "---  ------      --------------  ----- \n",
      " 0   Unnamed: 0  71537 non-null  int64 \n",
      " 1   title       71537 non-null  object\n",
      " 2   text        71537 non-null  object\n",
      " 3   label       71537 non-null  int64 \n",
      "dtypes: int64(2), object(2)\n",
      "memory usage: 2.7+ MB\n",
      "\n",
      "First few rows:\n"
     ]
    },
    {
     "data": {
      "text/html": [
       "<div>\n",
       "<style scoped>\n",
       "    .dataframe tbody tr th:only-of-type {\n",
       "        vertical-align: middle;\n",
       "    }\n",
       "\n",
       "    .dataframe tbody tr th {\n",
       "        vertical-align: top;\n",
       "    }\n",
       "\n",
       "    .dataframe thead th {\n",
       "        text-align: right;\n",
       "    }\n",
       "</style>\n",
       "<table border=\"1\" class=\"dataframe\">\n",
       "  <thead>\n",
       "    <tr style=\"text-align: right;\">\n",
       "      <th></th>\n",
       "      <th>Unnamed: 0</th>\n",
       "      <th>title</th>\n",
       "      <th>text</th>\n",
       "      <th>label</th>\n",
       "    </tr>\n",
       "  </thead>\n",
       "  <tbody>\n",
       "    <tr>\n",
       "      <th>0</th>\n",
       "      <td>0</td>\n",
       "      <td>LAW ENFORCEMENT ON HIGH ALERT Following Threat...</td>\n",
       "      <td>No comment is expected from Barack Obama Membe...</td>\n",
       "      <td>1</td>\n",
       "    </tr>\n",
       "    <tr>\n",
       "      <th>2</th>\n",
       "      <td>2</td>\n",
       "      <td>UNBELIEVABLE! OBAMA’S ATTORNEY GENERAL SAYS MO...</td>\n",
       "      <td>Now, most of the demonstrators gathered last ...</td>\n",
       "      <td>1</td>\n",
       "    </tr>\n",
       "    <tr>\n",
       "      <th>3</th>\n",
       "      <td>3</td>\n",
       "      <td>Bobby Jindal, raised Hindu, uses story of Chri...</td>\n",
       "      <td>A dozen politically active pastors came here f...</td>\n",
       "      <td>0</td>\n",
       "    </tr>\n",
       "    <tr>\n",
       "      <th>4</th>\n",
       "      <td>4</td>\n",
       "      <td>SATAN 2: Russia unvelis an image of its terrif...</td>\n",
       "      <td>The RS-28 Sarmat missile, dubbed Satan 2, will...</td>\n",
       "      <td>1</td>\n",
       "    </tr>\n",
       "    <tr>\n",
       "      <th>5</th>\n",
       "      <td>5</td>\n",
       "      <td>About Time! Christian Group Sues Amazon and SP...</td>\n",
       "      <td>All we can say on this one is it s about time ...</td>\n",
       "      <td>1</td>\n",
       "    </tr>\n",
       "  </tbody>\n",
       "</table>\n",
       "</div>"
      ],
      "text/plain": [
       "   Unnamed: 0                                              title  \\\n",
       "0           0  LAW ENFORCEMENT ON HIGH ALERT Following Threat...   \n",
       "2           2  UNBELIEVABLE! OBAMA’S ATTORNEY GENERAL SAYS MO...   \n",
       "3           3  Bobby Jindal, raised Hindu, uses story of Chri...   \n",
       "4           4  SATAN 2: Russia unvelis an image of its terrif...   \n",
       "5           5  About Time! Christian Group Sues Amazon and SP...   \n",
       "\n",
       "                                                text  label  \n",
       "0  No comment is expected from Barack Obama Membe...      1  \n",
       "2   Now, most of the demonstrators gathered last ...      1  \n",
       "3  A dozen politically active pastors came here f...      0  \n",
       "4  The RS-28 Sarmat missile, dubbed Satan 2, will...      1  \n",
       "5  All we can say on this one is it s about time ...      1  "
      ]
     },
     "execution_count": 1,
     "metadata": {},
     "output_type": "execute_result"
    }
   ],
   "source": [
    "import pandas as pd\n",
    "import numpy as np\n",
    "import nltk\n",
    "import textstat\n",
    "from textblob import TextBlob\n",
    "from vaderSentiment.vaderSentiment import SentimentIntensityAnalyzer\n",
    "import spacy\n",
    "from sklearn.model_selection import train_test_split\n",
    "from sklearn.ensemble import RandomForestClassifier\n",
    "from sklearn.metrics import classification_report, confusion_matrix, ConfusionMatrixDisplay, accuracy_score\n",
    "import matplotlib.pyplot as plt\n",
    "import joblib\n",
    "\n",
    "# Download required NLTK data\n",
    "nltk.download('punkt')\n",
    "nltk.download('stopwords')\n",
    "\n",
    "# Load spaCy model\n",
    "nlp = spacy.load(\"en_core_web_sm\")\n",
    "sia = SentimentIntensityAnalyzer()\n",
    "\n",
    "# Load and clean dataset\n",
    "data = pd.read_csv(\"WelFake_Dataset.csv\")\n",
    "data.dropna(inplace=True)\n",
    "data['text'] = data['text'].astype(str)\n",
    "\n",
    "# Display basic info\n",
    "print(\"Dataset Info:\")\n",
    "data.info()\n",
    "print(\"\\nFirst few rows:\")\n",
    "data.head()"
   ]
  },
  {
   "cell_type": "code",
   "execution_count": 2,
   "id": "b4644478-13c8-444f-b596-329904704e53",
   "metadata": {},
   "outputs": [],
   "source": [
    "# Cell 2: Feature Engineering Functions\n",
    "from nltk.tokenize import word_tokenize\n",
    "\n",
    "def get_sentiment(text):\n",
    "    return TextBlob(text).sentiment.polarity\n",
    "\n",
    "def get_readability(text):\n",
    "    return textstat.flesch_reading_ease(text)\n",
    "\n",
    "def get_vader_sentiment(text):\n",
    "    return sia.polarity_scores(text)['compound']\n",
    "\n",
    "def get_named_entity_count(text):\n",
    "    return len(nlp(text).ents)\n",
    "\n",
    "def get_adj_ratio(text):\n",
    "    doc = nlp(text)\n",
    "    return len([t for t in doc if t.pos_ == \"ADJ\"]) / len(doc) if len(doc) else 0\n",
    "\n",
    "def get_lexical_diversity(text):\n",
    "    tokens = word_tokenize(text.lower())\n",
    "    return len(set(tokens)) / len(tokens) if len(tokens) else 0"
   ]
  },
  {
   "cell_type": "code",
   "execution_count": 3,
   "id": "bba740a0-4ae7-4891-a634-d00aa7fab058",
   "metadata": {},
   "outputs": [
    {
     "name": "stdout",
     "output_type": "stream",
     "text": [
      "Extracting features...\n",
      "\n",
      "Feature Statistics:\n"
     ]
    },
    {
     "data": {
      "text/html": [
       "<div>\n",
       "<style scoped>\n",
       "    .dataframe tbody tr th:only-of-type {\n",
       "        vertical-align: middle;\n",
       "    }\n",
       "\n",
       "    .dataframe tbody tr th {\n",
       "        vertical-align: top;\n",
       "    }\n",
       "\n",
       "    .dataframe thead th {\n",
       "        text-align: right;\n",
       "    }\n",
       "</style>\n",
       "<table border=\"1\" class=\"dataframe\">\n",
       "  <thead>\n",
       "    <tr style=\"text-align: right;\">\n",
       "      <th></th>\n",
       "      <th>sentiment</th>\n",
       "      <th>readability</th>\n",
       "      <th>vader_sentiment</th>\n",
       "      <th>named_entity_count</th>\n",
       "      <th>adj_ratio</th>\n",
       "      <th>lexical_diversity</th>\n",
       "    </tr>\n",
       "  </thead>\n",
       "  <tbody>\n",
       "    <tr>\n",
       "      <th>count</th>\n",
       "      <td>71537.000000</td>\n",
       "      <td>71537.000000</td>\n",
       "      <td>71537.000000</td>\n",
       "      <td>71537.000000</td>\n",
       "      <td>71537.000000</td>\n",
       "      <td>71537.000000</td>\n",
       "    </tr>\n",
       "    <tr>\n",
       "      <th>mean</th>\n",
       "      <td>0.062613</td>\n",
       "      <td>46.895388</td>\n",
       "      <td>0.039668</td>\n",
       "      <td>55.053091</td>\n",
       "      <td>0.059970</td>\n",
       "      <td>0.518800</td>\n",
       "    </tr>\n",
       "    <tr>\n",
       "      <th>std</th>\n",
       "      <td>0.103170</td>\n",
       "      <td>22.467856</td>\n",
       "      <td>0.853339</td>\n",
       "      <td>58.912132</td>\n",
       "      <td>0.022076</td>\n",
       "      <td>0.139097</td>\n",
       "    </tr>\n",
       "    <tr>\n",
       "      <th>min</th>\n",
       "      <td>-1.000000</td>\n",
       "      <td>-2078.380000</td>\n",
       "      <td>-1.000000</td>\n",
       "      <td>0.000000</td>\n",
       "      <td>0.000000</td>\n",
       "      <td>0.000000</td>\n",
       "    </tr>\n",
       "    <tr>\n",
       "      <th>25%</th>\n",
       "      <td>0.006131</td>\n",
       "      <td>40.004796</td>\n",
       "      <td>-0.940300</td>\n",
       "      <td>23.000000</td>\n",
       "      <td>0.047970</td>\n",
       "      <td>0.438155</td>\n",
       "    </tr>\n",
       "    <tr>\n",
       "      <th>50%</th>\n",
       "      <td>0.060909</td>\n",
       "      <td>47.728587</td>\n",
       "      <td>0.128000</td>\n",
       "      <td>41.000000</td>\n",
       "      <td>0.059829</td>\n",
       "      <td>0.502427</td>\n",
       "    </tr>\n",
       "    <tr>\n",
       "      <th>75%</th>\n",
       "      <td>0.112500</td>\n",
       "      <td>55.583108</td>\n",
       "      <td>0.950500</td>\n",
       "      <td>69.000000</td>\n",
       "      <td>0.071823</td>\n",
       "      <td>0.575309</td>\n",
       "    </tr>\n",
       "    <tr>\n",
       "      <th>max</th>\n",
       "      <td>1.000000</td>\n",
       "      <td>121.220000</td>\n",
       "      <td>1.000000</td>\n",
       "      <td>2616.000000</td>\n",
       "      <td>1.000000</td>\n",
       "      <td>1.000000</td>\n",
       "    </tr>\n",
       "  </tbody>\n",
       "</table>\n",
       "</div>"
      ],
      "text/plain": [
       "          sentiment   readability  vader_sentiment  named_entity_count  \\\n",
       "count  71537.000000  71537.000000     71537.000000        71537.000000   \n",
       "mean       0.062613     46.895388         0.039668           55.053091   \n",
       "std        0.103170     22.467856         0.853339           58.912132   \n",
       "min       -1.000000  -2078.380000        -1.000000            0.000000   \n",
       "25%        0.006131     40.004796        -0.940300           23.000000   \n",
       "50%        0.060909     47.728587         0.128000           41.000000   \n",
       "75%        0.112500     55.583108         0.950500           69.000000   \n",
       "max        1.000000    121.220000         1.000000         2616.000000   \n",
       "\n",
       "          adj_ratio  lexical_diversity  \n",
       "count  71537.000000       71537.000000  \n",
       "mean       0.059970           0.518800  \n",
       "std        0.022076           0.139097  \n",
       "min        0.000000           0.000000  \n",
       "25%        0.047970           0.438155  \n",
       "50%        0.059829           0.502427  \n",
       "75%        0.071823           0.575309  \n",
       "max        1.000000           1.000000  "
      ]
     },
     "execution_count": 3,
     "metadata": {},
     "output_type": "execute_result"
    }
   ],
   "source": [
    "# Cell 3: Apply Feature Engineering\n",
    "print(\"Extracting features...\")\n",
    "\n",
    "# Apply all features\n",
    "data['sentiment'] = data['text'].apply(get_sentiment)\n",
    "data['readability'] = data['text'].apply(get_readability)\n",
    "data['vader_sentiment'] = data['text'].apply(get_vader_sentiment)\n",
    "data['named_entity_count'] = data['text'].apply(get_named_entity_count)\n",
    "data['adj_ratio'] = data['text'].apply(get_adj_ratio)\n",
    "data['lexical_diversity'] = data['text'].apply(get_lexical_diversity)\n",
    "\n",
    "# Display feature statistics\n",
    "print(\"\\nFeature Statistics:\")\n",
    "data[['sentiment', 'readability', 'vader_sentiment', 'named_entity_count', 'adj_ratio', 'lexical_diversity']].describe()"
   ]
  },
  {
   "cell_type": "code",
   "execution_count": 4,
   "id": "78bae898-8065-423a-ba21-febb972ca014",
   "metadata": {},
   "outputs": [
    {
     "name": "stdout",
     "output_type": "stream",
     "text": [
      "Training set shape: (57229, 6)\n",
      "Testing set shape: (14308, 6)\n"
     ]
    }
   ],
   "source": [
    "# Cell 4: Prepare Features and Labels\n",
    "# Select features for training\n",
    "feature_columns = ['sentiment', 'readability', 'vader_sentiment', \n",
    "                  'named_entity_count', 'adj_ratio', 'lexical_diversity']\n",
    "\n",
    "X = data[feature_columns]\n",
    "y = data['label']\n",
    "\n",
    "# Split the data\n",
    "X_train, X_test, y_train, y_test = train_test_split(X, y, test_size=0.2, random_state=42)\n",
    "\n",
    "print(\"Training set shape:\", X_train.shape)\n",
    "print(\"Testing set shape:\", X_test.shape)"
   ]
  },
  {
   "cell_type": "code",
   "execution_count": 5,
   "id": "50922017-6260-4db9-bfd2-fc906e52bd71",
   "metadata": {},
   "outputs": [
    {
     "name": "stdout",
     "output_type": "stream",
     "text": [
      "Model Performance:\n",
      "\n",
      "Accuracy Score: 0.7681716522225328\n",
      "\n",
      "Classification Report:\n",
      "              precision    recall  f1-score   support\n",
      "\n",
      "           0       0.77      0.75      0.76      7081\n",
      "           1       0.76      0.78      0.77      7227\n",
      "\n",
      "    accuracy                           0.77     14308\n",
      "   macro avg       0.77      0.77      0.77     14308\n",
      "weighted avg       0.77      0.77      0.77     14308\n",
      "\n",
      "\n",
      "Feature Importance:\n",
      "              feature  importance\n",
      "1         readability    0.200572\n",
      "5   lexical_diversity    0.175228\n",
      "3  named_entity_count    0.174399\n",
      "4           adj_ratio    0.155168\n",
      "2     vader_sentiment    0.151930\n",
      "0           sentiment    0.142703\n"
     ]
    }
   ],
   "source": [
    "# Cell 5: Train Random Forest Model\n",
    "# Initialize and train the model\n",
    "rf_model = RandomForestClassifier(n_estimators=100, random_state=42)\n",
    "rf_model.fit(X_train, y_train)\n",
    "\n",
    "# Make predictions\n",
    "y_pred = rf_model.predict(X_test)\n",
    "\n",
    "# Print model performance\n",
    "print(\"Model Performance:\")\n",
    "print(\"\\nAccuracy Score:\", accuracy_score(y_test, y_pred))\n",
    "print(\"\\nClassification Report:\")\n",
    "print(classification_report(y_test, y_pred))\n",
    "\n",
    "# Feature importance\n",
    "feature_importance = pd.DataFrame({\n",
    "    'feature': feature_columns,\n",
    "    'importance': rf_model.feature_importances_\n",
    "}).sort_values('importance', ascending=False)\n",
    "\n",
    "print(\"\\nFeature Importance:\")\n",
    "print(feature_importance)"
   ]
  },
  {
   "cell_type": "code",
   "execution_count": 6,
   "id": "1dffea83-9fc7-4ec0-a795-8836926b8d5a",
   "metadata": {},
   "outputs": [
    {
     "data": {
      "text/plain": [
       "<Figure size 800x600 with 0 Axes>"
      ]
     },
     "metadata": {},
     "output_type": "display_data"
    },
    {
     "data": {
      "image/png": "[encoded data removed]",
      "text/plain": [
       "<Figure size 640x480 with 2 Axes>"
      ]
     },
     "metadata": {},
     "output_type": "display_data"
    },
    {
     "data": {
      "image/png": "[encoded data removed]",
      "text/plain": [
       "<Figure size 1000x600 with 1 Axes>"
      ]
     },
     "metadata": {},
     "output_type": "display_data"
    }
   ],
   "source": [
    "# Cell 6: Visualize Results\n",
    "# Plot confusion matrix\n",
    "plt.figure(figsize=(8, 6))\n",
    "cm = confusion_matrix(y_test, y_pred)\n",
    "disp = ConfusionMatrixDisplay(confusion_matrix=cm, display_labels=['Real', 'Fake'])\n",
    "disp.plot(cmap='Blues')\n",
    "plt.title('Confusion Matrix')\n",
    "plt.show()\n",
    "\n",
    "# Plot feature importance\n",
    "plt.figure(figsize=(10, 6))\n",
    "plt.bar(feature_importance['feature'], feature_importance['importance'])\n",
    "plt.xticks(rotation=45, ha='right')\n",
    "plt.title('Feature Importance')\n",
    "plt.tight_layout()\n",
    "plt.show()"
   ]
  },
  {
   "cell_type": "code",
   "execution_count": 7,
   "id": "c499ce3e-22c1-47ea-b73e-410f3d9dbb59",
   "metadata": {},
   "outputs": [
    {
     "name": "stdout",
     "output_type": "stream",
     "text": [
      "Model saved as 'fake_news_rf_model.pkl'\n",
      "Model info saved as 'fake_news_model_info.pkl'\n"
     ]
    }
   ],
   "source": [
    "# Cell 7: Save the Model\n",
    "# Save the trained model\n",
    "import joblib\n",
    "\n",
    "joblib.dump(rf_model, 'fake_news_rf_model.pkl')\n",
    "print(\"Model saved as 'fake_news_rf_model.pkl'\")\n",
    "\n",
    "# Save the feature names for later use\n",
    "model_info = {\n",
    "    'feature_names': feature_columns,\n",
    "    'model': rf_model\n",
    "}\n",
    "joblib.dump(model_info, 'fake_news_model_info.pkl')\n",
    "print(\"Model info saved as 'fake_news_model_info.pkl'\")"
   ]
  },
  {
   "cell_type": "code",
   "execution_count": null,
   "id": "0de5054b-0397-4be5-a646-c0af764b68bf",
   "metadata": {},
   "outputs": [],
   "source": [
    "import shap\n",
    "\n",
    "# Create a SHAP explainer for the random forest model\n",
    "explainer = shap.TreeExplainer(rf_model)\n",
    "\n",
    "# Calculate SHAP values for the training data\n",
    "shap_values = explainer.shap_values(X_train)"
   ]
  },
  {
   "cell_type": "code",
   "execution_count": null,
   "id": "2d144679-707e-4086-9f40-56d386b17a99",
   "metadata": {},
   "outputs": [],
   "source": [
    "# Create a summary plot\n",
    "plt.figure(figsize=(10, 6))\n",
    "shap.summary_plot(shap_values, X_train, feature_names=feature_names, show=False)\n",
    "plt.title('SHAP Feature Importance')\n",
    "plt.tight_layout()\n",
    "plt.show()"
   ]
  },
  {
   "cell_type": "code",
   "execution_count": null,
   "id": "1432a55b-2490-4f6d-8feb-66d34eda9950",
   "metadata": {},
   "outputs": [],
   "source": [
    "# Create a bar plot of mean absolute SHAP values\n",
    "plt.figure(figsize=(10, 6))\n",
    "shap.summary_plot(shap_values, X_train, feature_names=feature_names, plot_type=\"bar\", show=False)\n",
    "plt.title('Mean Absolute SHAP Values')\n",
    "plt.tight_layout()\n",
    "plt.show()"
   ]
  },
  {
   "cell_type": "code",
   "execution_count": null,
   "id": "98f18c35-e536-434e-b5d2-134a5cdcb950",
   "metadata": {},
   "outputs": [],
   "source": []
  }
 ],
 "metadata": {
  "kernelspec": {
   "display_name": "Python 3 (ipykernel)",
   "language": "python",
   "name": "python3"
  },
  "language_info": {
   "codemirror_mode": {
    "name": "ipython",
    "version": 3
   },
   "file_extension": ".py",
   "mimetype": "text/x-python",
   "name": "python",
   "nbconvert_exporter": "python",
   "pygments_lexer": "ipython3",
   "version": "3.10.11"
  }
 },
 "nbformat": 4,
 "nbformat_minor": 5
}
